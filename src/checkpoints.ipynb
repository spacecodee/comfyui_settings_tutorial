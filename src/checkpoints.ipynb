{
 "cells": [
  {
   "cell_type": "code",
   "execution_count": 3,
   "metadata": {},
   "outputs": [],
   "source": [
    "# Configure the workspace path\n",
    "# importing the .env file and setting the workspace path\n",
    "import os\n",
    "from dotenv import load_dotenv\n",
    "\n",
    "load_dotenv()\n",
    "\n",
    "# setting the workspace path\n",
    "WORKSPACE_CHECKPOINTS = os.getenv(\"WORKSPACE_CHECKPOINTS\")"
   ]
  },
  {
   "cell_type": "code",
   "execution_count": 4,
   "metadata": {},
   "outputs": [
    {
     "name": "stdout",
     "output_type": "stream",
     "text": [
      "/teamspace/studios/this_studio/content/ComfyUI/models/checkpoints\n"
     ]
    }
   ],
   "source": [
    "%cd $WORKSPACE_CHECKPOINTS"
   ]
  },
  {
   "cell_type": "code",
   "execution_count": null,
   "metadata": {},
   "outputs": [],
   "source": [
    "!wget -O juggernautXL_juggXIByRundiffusion.safetensors \"https://civitai.com/api/download/models/782002?type=Model&format=SafeTensor&size=full&fp=fp16&token=\"\n",
    "!wget -O realvisxlV50_v50Bakedvae.safetensors \"https://civitai.com/api/download/models/789646?type=Model&format=SafeTensor&size=full&fp=fp32&token=\""
   ]
  },
  {
   "cell_type": "code",
   "execution_count": null,
   "metadata": {},
   "outputs": [],
   "source": "!wget -O STOIQONewrealityFLUXSD_XLPRO.safetensors \"https://civitai.com/api/download/models/690310?type=Model&format=SafeTensor&size=full&fp=fp16&token=\""
  }
 ],
 "metadata": {
  "language_info": {
   "name": "python"
  }
 },
 "nbformat": 4,
 "nbformat_minor": 2
}
