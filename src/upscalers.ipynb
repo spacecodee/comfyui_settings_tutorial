{
 "cells": [
  {
   "cell_type": "code",
   "execution_count": 1,
   "metadata": {},
   "outputs": [],
   "source": [
    "# Configure the workspace path\n",
    "# importing the .env file and setting the workspace path\n",
    "import os\n",
    "from dotenv import load_dotenv\n",
    "\n",
    "load_dotenv()\n",
    "\n",
    "# setting the workspace path\n",
    "WORKSPACE_UPSCALERS = os.getenv(\"WORKSPACE_UPSCALERS\")"
   ]
  },
  {
   "cell_type": "code",
   "execution_count": null,
   "metadata": {},
   "outputs": [],
   "source": [
    "%cd $WORKSPACE_UPSCALERS"
   ]
  },
  {
   "cell_type": "code",
   "execution_count": null,
   "metadata": {},
   "outputs": [],
   "source": [
    "!wget -O 4x_NMKD-Superscale-SP_178000_G.pth \"https://huggingface.co/gemasai/4x_NMKD-Superscale-SP_178000_G/resolve/main/4x_NMKD-Superscale-SP_178000_G.pth?download=true\"\n",
    "!wget -O 4xUltrasharp_4xUltrasharpV10.pth \"https://civitai.com/api/download/models/125843?type=Model&format=PickleTensor\"\n",
    "!wget -O 4xRealisticrescaler_100000G.pth \"https://civitai.com/api/download/models/357054?type=Model&format=PickleTensor\"\n",
    "!wget -O 4x-OPScaler.pth \"https://civitai.com/api/download/models/492288?type=Model&format=PickleTensor&token=\"\n",
    "!wget -O 8xNMKDFaces160000G_v10.pth \"https://civitai.com/api/download/models/158264?type=Model&format=PickleTensor\"\n",
    "!wget -O 4x_NMKD-Siax_200k.pth \"https://huggingface.co/gemasai/4x_NMKD-Siax_200k/resolve/main/4x_NMKD-Siax_200k.pth?download=true\""
   ]
  }
 ],
 "metadata": {
  "language_info": {
   "name": "python"
  }
 },
 "nbformat": 4,
 "nbformat_minor": 2
}
