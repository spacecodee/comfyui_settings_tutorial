{
 "cells": [
  {
   "cell_type": "code",
   "execution_count": 11,
   "metadata": {},
   "outputs": [],
   "source": [
    "# Configure the workspace path\n",
    "# importing the .env file and setting the workspace path\n",
    "import os\n",
    "from dotenv import load_dotenv\n",
    "\n",
    "load_dotenv()\n",
    "\n",
    "# setting the workspace path\n",
    "WORKSPACE_LORA = os.getenv(\"WORKSPACE_LORA\")"
   ]
  },
  {
   "cell_type": "code",
   "execution_count": null,
   "metadata": {},
   "outputs": [],
   "source": [
    "%cd $WORKSPACE_LORAS"
   ]
  },
  {
   "cell_type": "code",
   "execution_count": null,
   "metadata": {},
   "outputs": [],
   "source": [
    "!wget -O PerfectEyesXL.safetensors \"https://civitai.com/api/download/models/128461?type=Model&format=SafeTensor\"\n",
    "!wget -O hands_sdxl_4.safetensors \"https://civitai.com/api/download/models/471794?type=Model&format=SafeTensor&token=\"\n",
    "!wget -O skin_texture_style_v4.safetensors \"https://civitai.com/api/download/models/707763?type=Model&format=SafeTensor&token=\"\n",
    "!wget -O aidma-Image_Upgrader-v0.1.safetensors \"https://civitai.com/api/download/models/627153?type=Model&format=SafeTensor&token=\""
   ]
  }
 ],
 "metadata": {
  "language_info": {
   "name": "python"
  }
 },
 "nbformat": 4,
 "nbformat_minor": 2
}
